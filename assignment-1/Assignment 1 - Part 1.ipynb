{
 "cells": [
  {
   "cell_type": "markdown",
   "metadata": {
    "deletable": true,
    "editable": true
   },
   "source": [
    "# Assignment 1 - Part 1"
   ]
  },
  {
   "cell_type": "markdown",
   "metadata": {
    "deletable": true,
    "editable": true
   },
   "source": [
    "*Author: Jovan Sardinha, Terek Judi, Ashish Malhotra*    \n",
    "*Stream: Machine Learning, NextAI, 2017 Cohort*  "
   ]
  },
  {
   "cell_type": "markdown",
   "metadata": {
    "deletable": true,
    "editable": true
   },
   "source": [
    "---"
   ]
  },
  {
   "cell_type": "markdown",
   "metadata": {
    "deletable": true,
    "editable": true
   },
   "source": [
    "## Machine Learning and Your Venture"
   ]
  },
  {
   "cell_type": "markdown",
   "metadata": {
    "deletable": true,
    "editable": true
   },
   "source": [
    "1)  \n",
    "a) Text in the form of chats from user to bot.  \n",
    "b) Text in the form of chats from bot to user.  \n",
    "c) NLP taking into account conversation context.  \n",
    "d) Use Botkit as bot building framework. Use wit.ai/luis.ai as NLP engine.  \n",
    "e) Need access to cloud hosts to support bot application \n",
    "\n",
    "2)  \n",
    "a) Intend to use chat data collected through interaction with customers (internal data source).  \n",
    "b) Intend to use chat data collected through interaction with customers.  \n",
    "\n",
    "3)  \n",
    "a) Training  \n",
    "\n",
    "Ashish Malhotra:      \n",
    "- Coursera ML course, Andrew Ng, 2014  \n",
    "- Udacity Deep Learning course, Vincent Vanhoucke, 2015   \n",
    "  \n",
    "Jovan Sardinha:       \n",
    "- Data Science Specialization, Coursera, 2014-2016  \n",
    "- Machine Learning, Coursera, 2014  \n",
    "- Deep Learning - Udacity, 2015  \n",
    "- Operations Research - University of Toronto, 2007-2012   \n",
    "  \n",
    "Terek Judi:      \n",
    "- Pattern Recognition, University of Waterloo, 2013  \n",
    "- Applied Linear Models, University of Waterloo, 2011  \n",
    "- Sampling and Experimental Design, University of Waterloo, 2011  \n",
    "- Statistical Analysis, University of Waterloo, 2011    \n",
    "  \n",
    "b) NLP and NLU  \n",
    "\n",
    "\n"
   ]
  },
  {
   "cell_type": "markdown",
   "metadata": {
    "deletable": true,
    "editable": true
   },
   "source": [
    "---"
   ]
  }
 ],
 "metadata": {
  "kernelspec": {
   "display_name": "Python 3",
   "language": "python",
   "name": "python3"
  },
  "language_info": {
   "codemirror_mode": {
    "name": "ipython",
    "version": 3
   },
   "file_extension": ".py",
   "mimetype": "text/x-python",
   "name": "python",
   "nbconvert_exporter": "python",
   "pygments_lexer": "ipython3",
   "version": "3.6.0"
  }
 },
 "nbformat": 4,
 "nbformat_minor": 2
}
